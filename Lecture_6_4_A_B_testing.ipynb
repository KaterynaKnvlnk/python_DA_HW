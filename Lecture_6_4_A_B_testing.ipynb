{
  "cells": [
    {
      "cell_type": "markdown",
      "metadata": {
        "id": "YptNuxaPqvRY"
      },
      "source": [
        "# A/B testing: A step-by-step guide in Python"
      ]
    },
    {
      "cell_type": "markdown",
      "metadata": {
        "id": "jF0VrsJkqvRc"
      },
      "source": [
        "Для наших даних ми використовуватимемо <a href='https://www.kaggle.com/zhangluyuan/ab-testing?select=ab_data.csv'>набір даних з Kaggle</a>, який містить результати A/B-тесту двох різних дизайнів сторінки вебсайту (old_page і new_page). Ось що ми зробимо:\n",
        "\n",
        "1. [Дизайн експерименту](#1.-Дизайн-експерименту)\n",
        "2. [Збір і підготовка даних](#2.-Збір-і-підготовка-даних)\n",
        "3. [Візуалізація результатів](#3.-Візуалізація-результатів)\n",
        "4. [Тестування гіпотези](#4.-Тестування-гіпотези)\n",
        "5. [Висновки](#5.-Висновки)\n",
        "\n",
        "Щоб зробити це трохи реалістичнішим, ось потенційний **сценарій** для нашого дослідження:\n",
        "\n",
        "> Уявіть, що ви працюєте в групі розробників **підприємства електронної комерції в Інтернеті**. Дизайнер UX дуже старанно попрацював над новою версією сторінки продукту, сподіваючись, що це призведе до більш високого коефіцієнта конверсії. Менеджер із продукту (PM) сказав вам, що **поточний коефіцієнт конверсії** становить у середньому **13%** протягом року, і що команда буде задоволена **збільшенням на 2%**, що означає, що новий дизайн вважатимуть успішним, якщо він підніме коефіцієнт конверсії до 15%.\n",
        "\n",
        "Перед впровадженням зміни команді буде зручніше протестувати її на невеликій кількості користувачів, щоб побачити, як вона працює, тому ви пропонуєте виконати **A/B-тест** на підмножині користувачів з вашої користувацької бази."
      ]
    },
    {
      "cell_type": "markdown",
      "metadata": {
        "id": "z7n0KkWoqvRd"
      },
      "source": [
        "***\n",
        "## 1. Дизайн експерименту"
      ]
    },
    {
      "cell_type": "markdown",
      "metadata": {
        "id": "oOQWenbYqvRd"
      },
      "source": [
        "### Формулювання гіпотези\n",
        "\n",
        "Насамперед, ми хочемо переконатися, що сформулювали гіпотезу на початку нашого проєкту. Це забезпечить правильність і точність нашої інтерпретації результатів.\n",
        "\n",
        "Оскільки ми не знаємо, чи буде новий дизайн працювати краще або гірше (або буде таким самим?), ми виберемо <a href=\"https://en.wikipedia.org/wiki/One-_and_two-tailed_tests\">**двосторонній тест**</a>:\n",
        "\n",
        "$$H_0: p = p_0$$\n",
        "$$H_a: p \\ne p_0$$\n",
        "\n",
        "де $p$ і $p_0$ позначають коефіцієнт конверсії нового і старого дизайну відповідно. Ми також встановимо **рівень значущості 95%**\n",
        "\n",
        "$$\\alpha = 0.05$$\n",
        "\n",
        "Значення $\\alpha$ - це встановлений нами поріг, за яким ми говоримо: \"Якщо ймовірність отримання результату як екстремального або більшого ($p$ - значення) є нижчою, ніж $\\alpha$, то ми відхиляємо нульову гіпотезу\". Оскільки наше $\\alpha = 0.05$ (що вказує на ймовірність 5%), наша впевненість (1 - $\\alpha$) становить 95%.\n",
        "\n",
        "Якщо ви не знайомі з вищезазначеним, усе це насправді означає, що хоч би який коефіцієнт конверсії ми не спостерігали для нашого нового дизайну в нашому тесті, ми хочемо бути впевнені на 95%, що він статистично відрізняється від коефіцієнта конверсії нашого старого дизайну, перш ніж ми вирішимо відкинути нульову гіпотезу $H_0$."
      ]
    },
    {
      "cell_type": "markdown",
      "metadata": {
        "id": "znkAIik9qvRe"
      },
      "source": [
        "### Вибір змінних\n",
        "\n",
        "Для нашого тесту нам знадобляться **дві групи**:\n",
        "* Група `control` - їм буде показано старий дизайн\n",
        "* Група `treatment` (або експериментальна, тестова) група - їм буде показано новий дизайн.\n",
        "\n",
        "Група - це буде наша *незалежна змінна* в цих даних (тобто Х). Причина, через яку в нас є дві групи, хоча ми знаємо базовий коефіцієнт конверсії, полягає в тому, що ми хочемо контролювати інші змінні, що можуть вплинути на наші результати, як-от сезонність: маючи `control` групу, ми можемо безпосередньо порівнювати їхні результати з групою `treatment`, тому що єдина систематична відмінність між групами - це дизайн сторінки продукту, і тому ми можемо пов'язати будь-які зміни в результатах із дизайном.\n",
        "\n",
        "Для нашої *залежної змінної* (тобто того, що ми намагаємося виміряти, у) ми зацікавлені в реєстрації \"коефіцієнта конверсії\". Ми можемо закодувати це за допомогою кожного користувацького сеансу з двійковою змінною:\n",
        "* `0` - користувач не купував товар під час цієї користувацької сесії.\n",
        "* `1` - користувач купив продукт під час цієї користувацької сесії.\n",
        "\n",
        "Таким чином, ми можемо легко обчислити середнє значення купівель для кожної групи, щоб отримати коефіцієнт конверсії кожного дизайну."
      ]
    },
    {
      "cell_type": "markdown",
      "metadata": {
        "id": "Aj0nFhFGqvRe"
      },
      "source": [
        "### Вибір розміру вибірки\n",
        "\n",
        "Важливо зазначити, що, оскільки ми не тестуватимемо всю базу користувачів (нашу <a href = \"https://www.bmj.com/about-bmj/resources-readers/publications/statistics-square-one/3-populations-and-samples\"> популяцію </a>), отримані нами показники конверсії неминуче будуть лише *оцінками* справжніх коефіцієнтів.\n",
        "\n",
        "Кількість людей (або користувацьких сеансів), яких ми вирішуємо охопити в кожній групі, вплине на точність наших розрахункових показників конверсії: **чим більший розмір вибірки**, тим точніші наші оцінки (тобто тим менші наші інтервали впевненості - confidence intervals), **тим вищий шанс виявити різницю** у двох групах, якщо вона є.\n",
        "\n",
        "З іншого боку, чим більшою стає наша вибірка, тим дорожчим (і непрактичнішим) стає наше дослідження.\n",
        "\n",
        "*Отже, скільки людей має бути в кожній групі?*\n",
        "\n",
        "Розмір необхідної нам вибірки оцінюють за допомогою так званого  [*Аналізу потужності*](https://machinelearningmastery.com/statistical-power-and-power-analysis-in-python/), і це залежить від кількох факторів:\n",
        "* **Потужність тесту** ($ 1 - \\beta $) - являє собою ймовірність виявлення статистичної різниці між групами в нашому тесті, коли різниця справді присутня. Зазвичай це значення встановлюється на 0.8 (більше про [статистичну потужність](https://uk.wikipedia.org/wiki/%D0%A1%D1%82%D0%B0%D1%82%D0%B8%D1%81%D1%82%D0%B8%D1%87%D0%BD%D0%B0_%D0%BF%D0%BE%D1%82%D1%83%D0%B6%D0%BD%D1%96%D1%81%D1%82%D1%8C) див. тут)\n",
        "* **Альфа-значення** ($ \\alpha $) - критичне значення, яке ми раніше встановили рівним 0.05.\n",
        "* **Величина ефекту** - кількісна величина результату (різниці між показниками конферсії), наявного в дослідженні. Це статистичний показник, детальніше про який можна дізнатись [тут](https://machinelearningmastery.com/effect-size-measures-in-python/).\n",
        "\n",
        "Оскільки наша команда була б задоволена різницею у 2%, ми можемо використати конверсії 13% і 15% для розрахунку очікуваного ефекту.\n",
        "\n",
        "На щастя, **Python подбає про всі необхідні обчислення за нас**:"
      ]
    },
    {
      "cell_type": "code",
      "execution_count": null,
      "metadata": {
        "ExecuteTime": {
          "end_time": "2022-12-08T12:37:01.330296Z",
          "start_time": "2022-12-08T12:36:56.113192Z"
        },
        "id": "s0U6WqGjqvRe"
      },
      "outputs": [],
      "source": [
        "import numpy as np\n",
        "import pandas as pd\n",
        "import scipy.stats as stats\n",
        "import statsmodels.stats.api as sms\n",
        "import matplotlib as mpl\n",
        "import matplotlib.pyplot as plt\n",
        "import seaborn as sns\n",
        "from math import ceil\n",
        "\n",
        "%matplotlib inline"
      ]
    },
    {
      "cell_type": "code",
      "execution_count": null,
      "metadata": {
        "ExecuteTime": {
          "end_time": "2022-12-08T12:37:22.853182Z",
          "start_time": "2022-12-08T12:37:22.842943Z"
        },
        "id": "j3MgX4mfqvRg"
      },
      "outputs": [],
      "source": [
        "effect_size = sms.proportion_effectsize(0.15, 0.13)    # Розрахунок розміру ефекту на основі наших очікуваних показників"
      ]
    },
    {
      "cell_type": "code",
      "execution_count": null,
      "metadata": {
        "ExecuteTime": {
          "end_time": "2022-12-08T12:37:24.043638Z",
          "start_time": "2022-12-08T12:37:24.028074Z"
        },
        "id": "hEw0ufFgqvRg"
      },
      "outputs": [],
      "source": [
        "effect_size"
      ]
    },
    {
      "cell_type": "code",
      "execution_count": null,
      "metadata": {
        "ExecuteTime": {
          "end_time": "2022-12-08T12:39:25.744077Z",
          "start_time": "2022-12-08T12:39:25.680562Z"
        },
        "id": "wdYNvwEQqvRg"
      },
      "outputs": [],
      "source": [
        "required_n = sms.NormalIndPower().solve_power(\n",
        "    effect_size,\n",
        "    power=0.8,\n",
        "    alpha=0.05,\n",
        "    ratio=1\n",
        "    )                                                  # Розрахунок необхідного розміру вибірки\n",
        "\n",
        "required_n = ceil(required_n)                          # Округлення до наступного цілого числа\n",
        "\n",
        "print(required_n)"
      ]
    },
    {
      "cell_type": "markdown",
      "metadata": {
        "id": "iP3yRMk6qvRg"
      },
      "source": [
        "Нам буде потрібно **мінімум 4720 спостережень для кожної групи**.\n",
        "\n",
        "Встановлення параметра power на 0.8 на практиці означає, що якщо існує реальна різниця в коефіцієнті конверсії між нашими версіями продукту, припускаючи, що різниця є тією, яку ми оцінили (13% проти 15%),\n",
        "то ми маємо 80% шанс визначити його як статистично значущий у нашому тесті з розміром вибірки, який ми розрахували."
      ]
    },
    {
      "cell_type": "markdown",
      "metadata": {
        "id": "YtSTIXqsqvRg"
      },
      "source": [
        "Розмір вибірки також можна обчислити на сайтах, загугливши \"sample size ab test calculator\", наприклад - тут https://www.evanmiller.org/ab-testing/sample-size.html, або тут https://www.abtasty.com/sample-size-calculator/."
      ]
    },
    {
      "cell_type": "markdown",
      "metadata": {
        "id": "cZM5asUxqvRh"
      },
      "source": [
        "***\n",
        "## 2. Збір і підготовка даних"
      ]
    },
    {
      "cell_type": "markdown",
      "metadata": {
        "id": "MRMM_9vOqvRh"
      },
      "source": [
        "Отже, тепер, коли у нас є необхідний розмір вибірки, нам потрібно зібрати дані. Зазвичай на цьому етапі ви працюєте зі своєю командою над налаштуванням експерименту, імовірно, за допомогою групи інженерів.  Переконайтеся, що ви зібрали достатньо даних з точки зору необхідного розміру вибірки.\n",
        "\n",
        "Наприклад,\n",
        "однак, оскільки ми будемо використовувати набір відкритих даних, то ми:\n",
        "1. Завантажимо <a href='https://www.kaggle.com/zhangluyuan/ab-testing?select=ab_data.csv'> набір даних з Kaggle </a>.\n",
        "2. Зчитуємо дані у фрейм даних pandas.\n",
        "3. Перевіримо і за необхідності очистимо дані.\n",
        "4. Довільно виберемо n = 4720 рядків із DataFrame для кожної групи.\n",
        "\n",
        "**Примітка**: Зазвичай нам не потрібно виконувати крок 4, це просто заради вправи."
      ]
    },
    {
      "cell_type": "code",
      "execution_count": null,
      "metadata": {
        "ExecuteTime": {
          "end_time": "2022-12-08T12:45:04.444890Z",
          "start_time": "2022-12-08T12:45:03.508675Z"
        },
        "id": "knFuCMd5qvRh"
      },
      "outputs": [],
      "source": [
        "df = pd.read_csv('../data/ab_data/ab_data.csv.zip')\n",
        "\n",
        "df.head()"
      ]
    },
    {
      "cell_type": "code",
      "execution_count": null,
      "metadata": {
        "ExecuteTime": {
          "end_time": "2022-12-08T12:46:41.312231Z",
          "start_time": "2022-12-08T12:46:41.038750Z"
        },
        "id": "IJ75drInqvRh"
      },
      "outputs": [],
      "source": [
        "df.info()"
      ]
    },
    {
      "cell_type": "code",
      "execution_count": null,
      "metadata": {
        "ExecuteTime": {
          "end_time": "2022-12-08T12:47:04.195665Z",
          "start_time": "2022-12-08T12:47:04.033266Z"
        },
        "id": "wgSSf2FAqvRh"
      },
      "outputs": [],
      "source": [
        "# Щоб переконатися, що вся контрольна група бачить стару сторінку і навпаки.\n",
        "\n",
        "pd.crosstab(df['group'], df['landing_page'])"
      ]
    },
    {
      "cell_type": "markdown",
      "metadata": {
        "id": "O4ThIzoYqvRi"
      },
      "source": [
        "У DataFrame **294478 рядків**, кожен з яких представляє сеанс користувача, а також **5 стовпців**:\n",
        "* `user_id` - ID користувача кожної сесії\n",
        "* `timestamp` - позначка часу сеансу\n",
        "* `group` - у яку групу було призначено користувача для цього сеансу {`control`, `treatment`}\n",
        "* `landing_page` - який дизайн кожен користувач бачив у цьому сеансі {`old_page`, `new_page`}\n",
        "* `convert` - чи завершився сеанс конверсією (двійкова змінна, `0` - немає конверсії, `1` - є конверсія)\n",
        "\n",
        "Фактично ми використовуватимемо для аналізу тільки стовпці \"group\" і \"convert\".\n",
        "\n",
        "Перш ніж ми продовжимо і проаналізуємо дані для отримання нашої підмножини, давайте упевнимося, що немає користувачів, які були обрані кілька разів."
      ]
    },
    {
      "cell_type": "code",
      "execution_count": null,
      "metadata": {
        "ExecuteTime": {
          "end_time": "2022-12-08T12:48:10.721012Z",
          "start_time": "2022-12-08T12:48:10.587833Z"
        },
        "id": "ruQiKZvVqvRi"
      },
      "outputs": [],
      "source": [
        "session_counts = df['user_id'].value_counts(ascending=False)\n",
        "multi_users = session_counts[session_counts > 1].count()\n",
        "\n",
        "print(f'Є {multi_users} користувачів, які зустрічаються кілька разів у наборі даних.')"
      ]
    },
    {
      "cell_type": "markdown",
      "metadata": {
        "id": "FVs_b35cqvRi"
      },
      "source": [
        "Насправді є користувачі, які з'являються більше одного разу. Оскільки це число порівняно мале, ми видалимо їх із DataFrame, щоб уникнути вибірки одних і тих самих користувачів двічі."
      ]
    },
    {
      "cell_type": "code",
      "execution_count": null,
      "metadata": {
        "ExecuteTime": {
          "end_time": "2022-12-08T12:48:42.531666Z",
          "start_time": "2022-12-08T12:48:42.438177Z"
        },
        "id": "dFA12eOjqvRi"
      },
      "outputs": [],
      "source": [
        "users_to_drop = session_counts[session_counts > 1].index\n",
        "\n",
        "df = df[~df['user_id'].isin(users_to_drop)]\n",
        "print(f'Новий розмір набору даних: {df.shape}')"
      ]
    },
    {
      "cell_type": "markdown",
      "metadata": {
        "id": "UwzUcXf_qvRi"
      },
      "source": [
        "### Самплінг\n",
        "\n",
        "Тепер, коли наш DataFrame красивий і чистий, ми можемо продовжити і вибрати n=4720 записів для кожної з груп."
      ]
    },
    {
      "cell_type": "code",
      "execution_count": null,
      "metadata": {
        "ExecuteTime": {
          "end_time": "2022-12-08T12:49:31.514786Z",
          "start_time": "2022-12-08T12:49:31.301774Z"
        },
        "id": "_cr_F21oqvRi"
      },
      "outputs": [],
      "source": [
        "control_sample = df[df['group'] == 'control'].sample(n=required_n, random_state=22)\n",
        "treatment_sample = df[df['group'] == 'treatment'].sample(n=required_n, random_state=22)\n",
        "\n",
        "ab_test = pd.concat([control_sample, treatment_sample], axis=0)\n",
        "ab_test.reset_index(drop=True, inplace=True)"
      ]
    },
    {
      "cell_type": "code",
      "execution_count": null,
      "metadata": {
        "ExecuteTime": {
          "end_time": "2022-12-08T12:49:32.802779Z",
          "start_time": "2022-12-08T12:49:32.769719Z"
        },
        "id": "ss9VVrH3qvRj"
      },
      "outputs": [],
      "source": [
        "ab_test"
      ]
    },
    {
      "cell_type": "code",
      "execution_count": null,
      "metadata": {
        "ExecuteTime": {
          "end_time": "2022-12-08T12:50:12.762407Z",
          "start_time": "2022-12-08T12:50:12.726171Z"
        },
        "id": "HlIia05QqvRj"
      },
      "outputs": [],
      "source": [
        "ab_test.info()"
      ]
    },
    {
      "cell_type": "code",
      "execution_count": null,
      "metadata": {
        "ExecuteTime": {
          "end_time": "2022-12-08T12:50:23.298715Z",
          "start_time": "2022-12-08T12:50:23.285084Z"
        },
        "id": "L00kwcVgqvRj"
      },
      "outputs": [],
      "source": [
        "ab_test['group'].value_counts()"
      ]
    },
    {
      "cell_type": "markdown",
      "metadata": {
        "id": "3QgSnyevqvRj"
      },
      "source": [
        "Тепер ми готові аналізувати наші результати."
      ]
    },
    {
      "cell_type": "markdown",
      "metadata": {
        "id": "KTDoPpT6qvRk"
      },
      "source": [
        "***\n",
        "## 3. Візуалізація результатів"
      ]
    },
    {
      "cell_type": "markdown",
      "metadata": {
        "id": "7sIHE5LJqvRk"
      },
      "source": [
        "Перше, що ми можемо зробити, це обчислити деяку **базову статистику**, щоб отримати уявлення про те, який вигляд мають наші зразки."
      ]
    },
    {
      "cell_type": "code",
      "execution_count": null,
      "metadata": {
        "ExecuteTime": {
          "end_time": "2022-12-08T12:50:51.800765Z",
          "start_time": "2022-12-08T12:50:51.516923Z"
        },
        "id": "aRIfbVvzqvRk"
      },
      "outputs": [],
      "source": [
        "conversion_rates = ab_test.groupby('group')['converted']\n",
        "\n",
        "std_p = lambda x: np.std(x)              # Std. deviation\n",
        "se_p = lambda x: stats.sem(x)            # (std / sqrt(n)) - standard error of the mean.\n",
        "\n",
        "conversion_rates = conversion_rates.agg([np.mean, std_p, se_p])\n",
        "conversion_rates.columns = ['conversion_rate', 'std_deviation', 'std_error']\n",
        "\n",
        "\n",
        "conversion_rates.style.format('{:.3f}')"
      ]
    },
    {
      "cell_type": "markdown",
      "metadata": {
        "id": "IN_F-bieqvRk"
      },
      "source": [
        "Судячи зі статистики вище, **наші два дизайни працювали дуже схоже**, але наш новий дизайн працював трохи краще, прибл. **коефіцієнт конверсії 12,3% проти 12,6%**.\n",
        "\n",
        "Нанесення даних на графік спростить розуміння цих результатів:"
      ]
    },
    {
      "cell_type": "code",
      "execution_count": null,
      "metadata": {
        "ExecuteTime": {
          "end_time": "2022-12-08T12:52:09.245368Z",
          "start_time": "2022-12-08T12:52:08.460561Z"
        },
        "id": "wyhaGZyrqvRk"
      },
      "outputs": [],
      "source": [
        "plt.figure(figsize=(8,6))\n",
        "\n",
        "sns.barplot(x=ab_test['group'], y=ab_test['converted'], ci=False)\n",
        "\n",
        "plt.ylim(0, 0.17)\n",
        "plt.title('Conversion rate by group', pad=20)\n",
        "plt.xlabel('Group', labelpad=15)\n",
        "plt.ylabel('Converted (proportion)', labelpad=15);"
      ]
    },
    {
      "cell_type": "markdown",
      "metadata": {
        "id": "_Du-xOjEqvRk"
      },
      "source": [
        "Коефіцієнти конверсії для наших груп дійсно дуже близькі. Також зверніть увагу, що коефіцієнт конверсії контрольної групи нижчий, ніж те, що ми очікували, виходячи зі знань про наш середній коефіцієнт конверсії (12,3% проти 13%). Це свідчить про те, що є деякі відмінності в результатах під час добору вибірки із сукупності.\n",
        "\n",
        "Отже, значення групи `treatment` вище. **Чи є ця різниця *статистично значущою***?"
      ]
    },
    {
      "cell_type": "markdown",
      "metadata": {
        "id": "uj2bSMVYqvRl"
      },
      "source": [
        "***\n",
        "## 4. Тестування гіпотези"
      ]
    },
    {
      "cell_type": "markdown",
      "metadata": {
        "id": "1okwij6KqvRl"
      },
      "source": [
        "Останній крок нашого аналізу - перевірка нашої гіпотези. Оскільки у нас дуже велика вибірка, ми можемо використовувати <a href=\"https://en.wikipedia.org/wiki/Binomial_proportion_confidence_interval#Normal_approximation_interval\"> нормальне наближення </a> для обчислення нашого значення $p$ (тобто z-тест).\n",
        "\n",
        "Знову ж таки, Python спрощує всі обчислення. Ми можемо використовувати модуль statsmodels.stats.proportion, щоб отримати значення $p$ і довірчі інтервали:"
      ]
    },
    {
      "cell_type": "code",
      "execution_count": null,
      "metadata": {
        "ExecuteTime": {
          "end_time": "2022-12-08T12:52:39.899302Z",
          "start_time": "2022-12-08T12:52:39.894288Z"
        },
        "id": "ooccgTBWqvRl"
      },
      "outputs": [],
      "source": [
        "from statsmodels.stats.proportion import proportions_ztest, proportion_confint"
      ]
    },
    {
      "cell_type": "code",
      "execution_count": null,
      "metadata": {
        "ExecuteTime": {
          "end_time": "2022-12-08T12:52:46.966512Z",
          "start_time": "2022-12-08T12:52:46.953467Z"
        },
        "id": "5uD6zvlIqvRl"
      },
      "outputs": [],
      "source": [
        "control_results = ab_test[ab_test['group'] == 'control']['converted']\n",
        "treatment_results = ab_test[ab_test['group'] == 'treatment']['converted']"
      ]
    },
    {
      "cell_type": "code",
      "execution_count": null,
      "metadata": {
        "ExecuteTime": {
          "end_time": "2022-12-08T12:53:59.681930Z",
          "start_time": "2022-12-08T12:53:59.654458Z"
        },
        "id": "r7bf8vJ6qvRl"
      },
      "outputs": [],
      "source": [
        "n_con = control_results.count()\n",
        "n_treat = treatment_results.count()\n",
        "successes = [control_results.sum(), treatment_results.sum()]\n",
        "nobs = [n_con, n_treat]\n",
        "\n",
        "z_stat, pval = proportions_ztest(successes, nobs=nobs)\n",
        "(lower_con, lower_treat), (upper_con, upper_treat) = proportion_confint(successes, nobs=nobs, alpha=0.05)\n",
        "\n",
        "print(f'z statistic: {z_stat:.2f}')\n",
        "print(f'p-value: {pval:.3f}')\n",
        "print(f'Довірчий інтервал 95% для групи control: [{lower_con:.3f}, {upper_con:.3f}]')\n",
        "print(f'Довірчий інтервал 95% для групи treatment: [{lower_treat:.3f}, {upper_treat:.3f}]')\n"
      ]
    },
    {
      "cell_type": "markdown",
      "metadata": {
        "id": "YFWNdoreqvRl"
      },
      "source": [
        "***\n",
        "## 5. Висновки"
      ]
    },
    {
      "cell_type": "markdown",
      "metadata": {
        "id": "227M7o0WqvRt"
      },
      "source": [
        "Оскільки наше $p$-значення=0.732 набагато вище за наше $\\alpha$ = 0.05, ми не можемо відхилити нульову гіпотезу $H_0$, що означає, що наш новий дизайн не працював суттєво (не кажучи вже що краще), ніж наш старий.\n",
        "\n",
        "Крім того, якщо ми подивимося довірчий інтервал для групи `treatment` ([0,116, 0,135], тобто 11,6-13,5%), ми помітимо, що:\n",
        "1. він включає наше базове значення коефіцієнта конверсії 13%.\n",
        "2. Він не включає наше цільове значення в 15% (зростання на 2%, до якого ми прагнули).\n",
        "\n",
        "Це означає, що більш імовірно, що істинний коефіцієнт конверсії нового дизайну буде схожий на наш базовий рівень, а не на цільові 15%, на які ми сподівалися. Це ще один доказ того, що наш новий дизайн навряд чи стане поліпшенням нашого старого. Тож потрібно придумати що-небудь інше :)"
      ]
    }
  ],
  "metadata": {
    "kernelspec": {
      "display_name": "Python 3 (ipykernel)",
      "language": "python",
      "name": "python3"
    },
    "language_info": {
      "codemirror_mode": {
        "name": "ipython",
        "version": 3
      },
      "file_extension": ".py",
      "mimetype": "text/x-python",
      "name": "python",
      "nbconvert_exporter": "python",
      "pygments_lexer": "ipython3",
      "version": "3.10.4"
    },
    "toc": {
      "base_numbering": 1,
      "nav_menu": {},
      "number_sections": true,
      "sideBar": true,
      "skip_h1_title": false,
      "title_cell": "Table of Contents",
      "title_sidebar": "Contents",
      "toc_cell": false,
      "toc_position": {},
      "toc_section_display": true,
      "toc_window_display": true
    },
    "vscode": {
      "interpreter": {
        "hash": "a6511e6b41b26ba86cca7483749cf4dd15bf137a2672e550741a656e19bba82e"
      }
    },
    "colab": {
      "provenance": []
    }
  },
  "nbformat": 4,
  "nbformat_minor": 0
}