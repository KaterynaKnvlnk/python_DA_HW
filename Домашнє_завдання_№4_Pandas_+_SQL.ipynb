{
  "cells": [
    {
      "cell_type": "markdown",
      "metadata": {
        "id": "ivUvJDdxKaHi"
      },
      "source": [
        "#Завдання на використання Pandas + SQL"
      ]
    },
    {
      "cell_type": "markdown",
      "metadata": {
        "id": "BWdQdn3IKQ_M"
      },
      "source": [
        "В змінній `con` створіть підключення до бази даних employees за аналогією того, як це робили в попередній домашці:"
      ]
    },
    {
      "cell_type": "code",
      "execution_count": 18,
      "metadata": {
        "id": "wj7hmp0-KZlV"
      },
      "outputs": [],
      "source": [
        "import mysql.connector\n",
        "from mysql.connector.connection import MySQLConnection\n",
        "import datetime"
      ]
    },
    {
      "cell_type": "code",
      "execution_count": 26,
      "metadata": {},
      "outputs": [],
      "source": [
        "import pandas as pd\n",
        "from matplotlib import pyplot as plt # or  import matplotlib.pyplot as plt\n",
        "%matplotlib inline"
      ]
    },
    {
      "cell_type": "code",
      "execution_count": 41,
      "metadata": {},
      "outputs": [],
      "source": [
        "con = mysql.connector.connect(user='user1', password='7oygWy6P',\n",
        "                              host='3.68.62.36',\n",
        "                              database='employees')"
      ]
    },
    {
      "cell_type": "markdown",
      "metadata": {
        "id": "x09jzXh2MitM"
      },
      "source": [
        "1. Виведіть кількість співробітників за роком, в який вони були найняті (hire_date) використовуючи pandas.read_sql. Запишіть результат в змінну df та виведіть значення змінної на екран."
      ]
    },
    {
      "cell_type": "code",
      "execution_count": 36,
      "metadata": {},
      "outputs": [],
      "source": [
        "from pandasql import sqldf"
      ]
    },
    {
      "cell_type": "code",
      "execution_count": 25,
      "metadata": {},
      "outputs": [
        {
          "name": "stderr",
          "output_type": "stream",
          "text": [
            "C:\\Users\\kathe\\AppData\\Local\\Temp\\ipykernel_30740\\623939054.py:1: UserWarning: pandas only supports SQLAlchemy connectable (engine/connection) or database string URI or sqlite3 DBAPI2 connection. Other DBAPI2 objects are not tested. Please consider using SQLAlchemy.\n",
            "  df = pd.read_sql(f'select year(hire_date) as hire_year, count(emp_no) as emp_num FROM employees group by hire_year order by hire_year', con)\n"
          ]
        },
        {
          "data": {
            "text/html": [
              "<div>\n",
              "<style scoped>\n",
              "    .dataframe tbody tr th:only-of-type {\n",
              "        vertical-align: middle;\n",
              "    }\n",
              "\n",
              "    .dataframe tbody tr th {\n",
              "        vertical-align: top;\n",
              "    }\n",
              "\n",
              "    .dataframe thead th {\n",
              "        text-align: right;\n",
              "    }\n",
              "</style>\n",
              "<table border=\"1\" class=\"dataframe\">\n",
              "  <thead>\n",
              "    <tr style=\"text-align: right;\">\n",
              "      <th></th>\n",
              "      <th>hire_year</th>\n",
              "      <th>emp_num</th>\n",
              "    </tr>\n",
              "  </thead>\n",
              "  <tbody>\n",
              "    <tr>\n",
              "      <th>0</th>\n",
              "      <td>1985</td>\n",
              "      <td>35316</td>\n",
              "    </tr>\n",
              "    <tr>\n",
              "      <th>1</th>\n",
              "      <td>1986</td>\n",
              "      <td>36150</td>\n",
              "    </tr>\n",
              "    <tr>\n",
              "      <th>2</th>\n",
              "      <td>1987</td>\n",
              "      <td>33501</td>\n",
              "    </tr>\n",
              "    <tr>\n",
              "      <th>3</th>\n",
              "      <td>1988</td>\n",
              "      <td>31436</td>\n",
              "    </tr>\n",
              "    <tr>\n",
              "      <th>4</th>\n",
              "      <td>1989</td>\n",
              "      <td>28394</td>\n",
              "    </tr>\n",
              "    <tr>\n",
              "      <th>5</th>\n",
              "      <td>1990</td>\n",
              "      <td>25610</td>\n",
              "    </tr>\n",
              "    <tr>\n",
              "      <th>6</th>\n",
              "      <td>1991</td>\n",
              "      <td>22568</td>\n",
              "    </tr>\n",
              "    <tr>\n",
              "      <th>7</th>\n",
              "      <td>1992</td>\n",
              "      <td>20402</td>\n",
              "    </tr>\n",
              "    <tr>\n",
              "      <th>8</th>\n",
              "      <td>1993</td>\n",
              "      <td>17772</td>\n",
              "    </tr>\n",
              "    <tr>\n",
              "      <th>9</th>\n",
              "      <td>1994</td>\n",
              "      <td>14835</td>\n",
              "    </tr>\n",
              "    <tr>\n",
              "      <th>10</th>\n",
              "      <td>1995</td>\n",
              "      <td>12115</td>\n",
              "    </tr>\n",
              "    <tr>\n",
              "      <th>11</th>\n",
              "      <td>1996</td>\n",
              "      <td>9574</td>\n",
              "    </tr>\n",
              "    <tr>\n",
              "      <th>12</th>\n",
              "      <td>1997</td>\n",
              "      <td>6669</td>\n",
              "    </tr>\n",
              "    <tr>\n",
              "      <th>13</th>\n",
              "      <td>1998</td>\n",
              "      <td>4155</td>\n",
              "    </tr>\n",
              "    <tr>\n",
              "      <th>14</th>\n",
              "      <td>1999</td>\n",
              "      <td>1514</td>\n",
              "    </tr>\n",
              "    <tr>\n",
              "      <th>15</th>\n",
              "      <td>2000</td>\n",
              "      <td>13</td>\n",
              "    </tr>\n",
              "  </tbody>\n",
              "</table>\n",
              "</div>"
            ],
            "text/plain": [
              "    hire_year  emp_num\n",
              "0        1985    35316\n",
              "1        1986    36150\n",
              "2        1987    33501\n",
              "3        1988    31436\n",
              "4        1989    28394\n",
              "5        1990    25610\n",
              "6        1991    22568\n",
              "7        1992    20402\n",
              "8        1993    17772\n",
              "9        1994    14835\n",
              "10       1995    12115\n",
              "11       1996     9574\n",
              "12       1997     6669\n",
              "13       1998     4155\n",
              "14       1999     1514\n",
              "15       2000       13"
            ]
          },
          "execution_count": 25,
          "metadata": {},
          "output_type": "execute_result"
        }
      ],
      "source": [
        "df = pd.read_sql(f'select year(hire_date) as hire_year, count(emp_no) as emp_num FROM employees group by hire_year order by hire_year', con)\n",
        "df"
      ]
    },
    {
      "cell_type": "markdown",
      "metadata": {
        "id": "RNA4i6kCMnlY"
      },
      "source": [
        "Очікуваний результат:\n",
        "\n",
        "![](https://drive.google.com/uc?export=view&id=1JmyPlxFwRRxuCJ33VN-AqMDPSdV_DPXI)"
      ]
    },
    {
      "cell_type": "markdown",
      "metadata": {
        "id": "RKy022bqJqlu"
      },
      "source": [
        "2. Виведіть лінійний графік залежності кількості найманих співробітників від року найму. Ми ж не просто так дані з бази дістали :)\n",
        "Перейменувати назви колонок датафрейму можна або методами pandas, або в sql запиті в попередньому завданні. Також, аби графік вийшов правильний, треба відсортувати роки за зростанням. І це також можна зробити аби в pandas, або в SQL."
      ]
    },
    {
      "cell_type": "code",
      "execution_count": 32,
      "metadata": {
        "id": "IKZLjCZcJr3x"
      },
      "outputs": [
        {
          "data": {
            "image/png": "[encoded data removed]",
            "text/plain": [
              "<Figure size 640x480 with 1 Axes>"
            ]
          },
          "metadata": {},
          "output_type": "display_data"
        }
      ],
      "source": [
        "plt.plot(df['hire_year'],df['emp_num'], label='Кількість співробітників')\n",
        "plt.xlabel('Роки в яких наймали працівників')\n",
        "plt.ylabel('К-ть співробітників')\n",
        "plt.legend()\n",
        "plt.show()\n"
      ]
    },
    {
      "cell_type": "markdown",
      "metadata": {
        "id": "N0_8D0xLM2AW"
      },
      "source": [
        "Очікуваний результат:\n",
        "\n",
        "![](https://drive.google.com/uc?export=view&id=1vXUpPNNvIL5dxsypr9sklvtq-H-NDwzU)"
      ]
    },
    {
      "cell_type": "markdown",
      "metadata": {
        "id": "8ert0tBvJsTZ"
      },
      "source": [
        "3. З допомогою SQL для робітників позиції `Engineer`, які вже не працюють в компанії (тобто у них є значення to_date, яке заповнено НЕ значенням за замовчанням) знайдіть кількість повних років перебування на позиції. Позиція зберігається в колонці `title` в таблиці `titles`. Кількість років перебування на позиції можна отримати наприклад з використанням функції `timestampdiff`. Ознайомтесь з її використанням в [документації](https://dev.mysql.com/doc/refman/8.0/en/date-and-time-functions.html#function_timestampdiff).\n",
        "\n",
        "Результат запишіть в змінну `df_years` та виведіть цю змінну на екран."
      ]
    },
    {
      "cell_type": "code",
      "execution_count": 45,
      "metadata": {
        "id": "bBhKfxlgJvi0"
      },
      "outputs": [],
      "source": [
        "query = \"\"\" \n",
        "SELECT  TIMESTAMPDIFF(year ,t.from_date, t.to_date) as 'duration', t.from_date, t.to_date \n",
        "FROM employees.titles as t \n",
        "inner join employees e on  t.emp_no = e.emp_no \n",
        "where title = 'Engineer' and to_date <> '9999-01-01'\n",
        "\"\"\"\n"
      ]
    },
    {
      "cell_type": "code",
      "execution_count": 47,
      "metadata": {},
      "outputs": [
        {
          "name": "stderr",
          "output_type": "stream",
          "text": [
            "C:\\Users\\kathe\\AppData\\Local\\Temp\\ipykernel_30740\\2464336929.py:1: UserWarning: pandas only supports SQLAlchemy connectable (engine/connection) or database string URI or sqlite3 DBAPI2 connection. Other DBAPI2 objects are not tested. Please consider using SQLAlchemy.\n",
            "  df_year = pd.read_sql(query, con)\n"
          ]
        },
        {
          "data": {
            "text/html": [
              "<div>\n",
              "<style scoped>\n",
              "    .dataframe tbody tr th:only-of-type {\n",
              "        vertical-align: middle;\n",
              "    }\n",
              "\n",
              "    .dataframe tbody tr th {\n",
              "        vertical-align: top;\n",
              "    }\n",
              "\n",
              "    .dataframe thead th {\n",
              "        text-align: right;\n",
              "    }\n",
              "</style>\n",
              "<table border=\"1\" class=\"dataframe\">\n",
              "  <thead>\n",
              "    <tr style=\"text-align: right;\">\n",
              "      <th></th>\n",
              "      <th>duration</th>\n",
              "      <th>from_date</th>\n",
              "      <th>to_date</th>\n",
              "    </tr>\n",
              "  </thead>\n",
              "  <tbody>\n",
              "    <tr>\n",
              "      <th>0</th>\n",
              "      <td>9</td>\n",
              "      <td>1986-12-01</td>\n",
              "      <td>1995-12-01</td>\n",
              "    </tr>\n",
              "    <tr>\n",
              "      <th>1</th>\n",
              "      <td>5</td>\n",
              "      <td>1990-02-18</td>\n",
              "      <td>1995-02-18</td>\n",
              "    </tr>\n",
              "    <tr>\n",
              "      <th>2</th>\n",
              "      <td>8</td>\n",
              "      <td>1992-12-18</td>\n",
              "      <td>2000-12-18</td>\n",
              "    </tr>\n",
              "    <tr>\n",
              "      <th>3</th>\n",
              "      <td>8</td>\n",
              "      <td>1987-04-03</td>\n",
              "      <td>1995-04-03</td>\n",
              "    </tr>\n",
              "    <tr>\n",
              "      <th>4</th>\n",
              "      <td>5</td>\n",
              "      <td>1995-03-20</td>\n",
              "      <td>2001-03-19</td>\n",
              "    </tr>\n",
              "    <tr>\n",
              "      <th>...</th>\n",
              "      <td>...</td>\n",
              "      <td>...</td>\n",
              "      <td>...</td>\n",
              "    </tr>\n",
              "    <tr>\n",
              "      <th>84015</th>\n",
              "      <td>9</td>\n",
              "      <td>1989-11-23</td>\n",
              "      <td>1998-11-23</td>\n",
              "    </tr>\n",
              "    <tr>\n",
              "      <th>84016</th>\n",
              "      <td>5</td>\n",
              "      <td>1989-07-30</td>\n",
              "      <td>1994-07-30</td>\n",
              "    </tr>\n",
              "    <tr>\n",
              "      <th>84017</th>\n",
              "      <td>0</td>\n",
              "      <td>1993-02-22</td>\n",
              "      <td>1993-10-27</td>\n",
              "    </tr>\n",
              "    <tr>\n",
              "      <th>84018</th>\n",
              "      <td>6</td>\n",
              "      <td>1996-05-13</td>\n",
              "      <td>2002-05-13</td>\n",
              "    </tr>\n",
              "    <tr>\n",
              "      <th>84019</th>\n",
              "      <td>4</td>\n",
              "      <td>1987-08-30</td>\n",
              "      <td>1992-08-29</td>\n",
              "    </tr>\n",
              "  </tbody>\n",
              "</table>\n",
              "<p>84020 rows × 3 columns</p>\n",
              "</div>"
            ],
            "text/plain": [
              "       duration   from_date     to_date\n",
              "0             9  1986-12-01  1995-12-01\n",
              "1             5  1990-02-18  1995-02-18\n",
              "2             8  1992-12-18  2000-12-18\n",
              "3             8  1987-04-03  1995-04-03\n",
              "4             5  1995-03-20  2001-03-19\n",
              "...         ...         ...         ...\n",
              "84015         9  1989-11-23  1998-11-23\n",
              "84016         5  1989-07-30  1994-07-30\n",
              "84017         0  1993-02-22  1993-10-27\n",
              "84018         6  1996-05-13  2002-05-13\n",
              "84019         4  1987-08-30  1992-08-29\n",
              "\n",
              "[84020 rows x 3 columns]"
            ]
          },
          "execution_count": 47,
          "metadata": {},
          "output_type": "execute_result"
        }
      ],
      "source": [
        "df_year = pd.read_sql(query, con)\n",
        "df_year"
      ]
    },
    {
      "cell_type": "markdown",
      "metadata": {
        "id": "6v5ejqB_NBhY"
      },
      "source": [
        "Очікуваний результат:\n",
        "\n",
        "![](https://drive.google.com/uc?export=view&id=1nBqeBVYFuSQlMx9lNaDJJ_8hMx7yV9bX)"
      ]
    },
    {
      "cell_type": "markdown",
      "metadata": {
        "id": "n3p0vRyxJy6F"
      },
      "source": [
        "4. Використовуючи дані в  `df_years`, побудуйте гістограму кількості років, протягом яких люди з назвою позиції `Engineer` перебували на позиції. Не забудьте дати назву діаграмі, а також підписати вісі."
      ]
    },
    {
      "cell_type": "code",
      "execution_count": 58,
      "metadata": {
        "id": "i99i8zVHJwUc"
      },
      "outputs": [
        {
          "data": {
            "text/plain": [
              "Text(0, 0.5, 'Number of employees')"
            ]
          },
          "execution_count": 58,
          "metadata": {},
          "output_type": "execute_result"
        },
        {
          "data": {
            "image/png": "[encoded data removed]",
            "text/plain": [
              "<Figure size 640x480 with 1 Axes>"
            ]
          },
          "metadata": {},
          "output_type": "display_data"
        }
      ],
      "source": [
        "plt.hist(df_year['duration'], alpha = .5, edgecolor='black')\n",
        "plt.grid(alpha=.6)\n",
        "plt.title('Duration on engineer position')\n",
        "plt.xlabel('Number of year')\n",
        "plt.ylabel('Number of employees')"
      ]
    },
    {
      "cell_type": "markdown",
      "metadata": {
        "id": "g_8980MgNL8E"
      },
      "source": [
        "Очікуваний результат:\n",
        "\n",
        "![](https://drive.google.com/uc?export=view&id=1RKbfs5R9oniNs9XJcUpdlXFT-0BKXvPB)"
      ]
    },
    {
      "cell_type": "markdown",
      "metadata": {
        "id": "f-GGILeOJ2zz"
      },
      "source": [
        "НЕ ЗАБУВАЄМО ЗАКРИТИ ПІДКЛЮЧЕННЯ ДО БАЗИ :)"
      ]
    },
    {
      "cell_type": "code",
      "execution_count": 57,
      "metadata": {
        "id": "ovabwjK_J5ac"
      },
      "outputs": [],
      "source": [
        "con.close()"
      ]
    }
  ],
  "metadata": {
    "colab": {
      "provenance": []
    },
    "kernelspec": {
      "display_name": "Python 3",
      "name": "python3"
    },
    "language_info": {
      "codemirror_mode": {
        "name": "ipython",
        "version": 3
      },
      "file_extension": ".py",
      "mimetype": "text/x-python",
      "name": "python",
      "nbconvert_exporter": "python",
      "pygments_lexer": "ipython3",
      "version": "3.12.8"
    }
  },
  "nbformat": 4,
  "nbformat_minor": 0
}
